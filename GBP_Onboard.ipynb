{
  "cells": [
    {
      "cell_type": "markdown",
      "metadata": {},
      "source": [
        "Python Notebook for Gemini Video Inference"
      ]
    },
    {
      "cell_type": "code",
      "execution_count": null,
      "metadata": {
        "id": "mN8x8DPgu9Kv"
      },
      "outputs": [],
      "source": [
        "!pip install -q -U google-generativeai gsheet-keyring"
      ]
    },
    {
      "cell_type": "code",
      "execution_count": 2,
      "metadata": {
        "id": "0x3xmmWrDtEH"
      },
      "outputs": [],
      "source": [
        "import google.generativeai as genai\n",
        "from IPython.display import Markdown\n",
        "from google.colab import userdata"
      ]
    },
    {
      "cell_type": "code",
      "execution_count": 3,
      "metadata": {
        "id": "d6lYXRcjthKV"
      },
      "outputs": [],
      "source": [
        "genai.configure(api_key=userdata.get('api_key'))"
      ]
    },
    {
      "cell_type": "code",
      "execution_count": 4,
      "metadata": {
        "id": "_HzrDdp2Q1Cu"
      },
      "outputs": [],
      "source": [
        "video_file_path = \"shopshort_enc.mp4\"\n",
        "video_file = genai.upload_file(path=video_file_path)"
      ]
    },
    {
      "cell_type": "markdown",
      "metadata": {
        "id": "SjkWj8562Wtk"
      },
      "source": [
        "# Check to see if video is ready"
      ]
    },
    {
      "cell_type": "code",
      "execution_count": null,
      "metadata": {
        "id": "CjTzJmG62MjH"
      },
      "outputs": [],
      "source": [
        "import time\n",
        "\n",
        "while video_file.state.name == \"PROCESSING\":\n",
        "    print('Waiting for video to be processed.')\n",
        "    time.sleep(10)\n",
        "    video_file = genai.get_file(video_file.name)\n",
        "\n",
        "if video_file.state.name == \"FAILED\":\n",
        "  raise ValueError(video_file.state.name)\n",
        "print(f'Video processing complete: ' + video_file.uri)"
      ]
    },
    {
      "cell_type": "code",
      "execution_count": 6,
      "metadata": {
        "id": "sHH0ZR6Yt42S"
      },
      "outputs": [],
      "source": [
        "# Create the prompt.\n",
        "website_prompt = '''\n",
        "  Use this video to generate a detailed website for this business.\n",
        "  Use any context including services, products, etc. Make sure you have a \"Contact us\" page, and \"About\" page, etc.\n",
        "  Be as detailed as possible and include specifics for the type of business, i.e. hotels have details about amenities, stores have hours and products.\n",
        "  Do not include links to logos or anything not available in the video.\n",
        "  Ensure your output is in HTML with clean CSS so we can display to the user and they can use it for a possible website.\n",
        "  '''\n",
        "facebook_prompt = '''\n",
        "  Use this video to generate a detailed Facebook business profile for this business.\n",
        "  Use any context including services, products, etc.\n",
        "  Be as detailed as possible and include specifics for the type of business, i.e. hotels have details about amenities, stores have hours and products.\n",
        "  Do not include links to logos or anything not available in the video.\n",
        "  Ensure your output is in HTML with clean CSS so we can display to the user. Ideally add a button with JS next to each individual assets so the user can copy them to their clipboard.\n",
        "  '''\n",
        "\n",
        "tiktok_prompt = '''\n",
        "  Use this video to generate a TikTok profile.\n",
        "  Use any context including services, products, etc.\n",
        "  Be as detailed as possible and include specifics for the type of business, i.e. hotels have details about amenities, stores have hours and products.\n",
        "  Do not include links to logos or anything not available in the video.\n",
        "  Make sure you use standard TikTok user attributes: open_id,\n",
        "display_name,\n",
        "bio_description,\n",
        "username\n",
        "  Ensure your output is in HTML with clean CSS so we can display to the user. Ideally add a button with JS next to each individual assets so the user can copy them to their clipboard.\n",
        "  '''\n",
        "# Choose a Gemini model.\n",
        "\n",
        "gbp_prompt = '''\n",
        "  Use this video to generate a Google Business profile.\n",
        "  Use any context including services, products, etc.\n",
        "  Be as detailed as possible and include specifics for the type of business, i.e. hotels have details about amenities, stores have hours and products.\n",
        "  Do not include links to logos or anything not available in the video.\n",
        "  Make sure you use standard Google profile objects.\n",
        "  Ensure your output is in HTML with clean CSS so we can display to the user. Ideally add a button with JS next to each individual assets so the user can copy them to their clipboard.\n",
        "  '''\n",
        "# # Choose a Gemini model.\n",
        "model = genai.GenerativeModel(model_name=\"gemini-1.5-pro-latest\")\n"
      ]
    },
    {
      "cell_type": "code",
      "execution_count": 21,
      "metadata": {
        "id": "f0yIriSD15jE"
      },
      "outputs": [],
      "source": [
        "response_website = model.generate_content([video_file, website_prompt],\n",
        "                                  request_options={\"timeout\": 600})"
      ]
    },
    {
      "cell_type": "code",
      "execution_count": null,
      "metadata": {
        "id": "XIY_5UrP8OLz"
      },
      "outputs": [],
      "source": [
        "import IPython\n",
        "IPython.display.HTML(response_website.text)"
      ]
    },
    {
      "cell_type": "code",
      "execution_count": 23,
      "metadata": {
        "id": "Dgkm10yX1z6-"
      },
      "outputs": [],
      "source": [
        "response_facebook = model.generate_content([video_file, facebook_prompt],\n",
        "                                  request_options={\"timeout\": 600})"
      ]
    },
    {
      "cell_type": "code",
      "execution_count": null,
      "metadata": {
        "id": "e_boJpgJ5CAm"
      },
      "outputs": [],
      "source": [
        "IPython.display.HTML(response_facebook.text)"
      ]
    },
    {
      "cell_type": "code",
      "execution_count": null,
      "metadata": {
        "id": "gcI9EIUE1zvh"
      },
      "outputs": [],
      "source": [
        "response_tiktok = model.generate_content([video_file, tiktok_prompt],\n",
        "                                  request_options={\"timeout\": 600})"
      ]
    },
    {
      "cell_type": "code",
      "execution_count": null,
      "metadata": {
        "id": "qAJsNKfV5Bz6"
      },
      "outputs": [],
      "source": [
        "IPython.display.HTML(response_tiktok.text)"
      ]
    },
    {
      "cell_type": "code",
      "execution_count": 38,
      "metadata": {
        "id": "MvNspAPD1zhZ"
      },
      "outputs": [],
      "source": [
        "response_gbp = model.generate_content([video_file, gbp_prompt],\n",
        "                                  request_options={\"timeout\": 600})"
      ]
    },
    {
      "cell_type": "code",
      "execution_count": null,
      "metadata": {
        "id": "s9yzmuLS5BrI"
      },
      "outputs": [],
      "source": [
        "IPython.display.HTML(response_gbp.text)"
      ]
    },
    {
      "cell_type": "markdown",
      "metadata": {
        "id": "JQE0XjgMZSJo"
      },
      "source": [
        "### Transcribe video and provide visual descriptions\n",
        "\n",
        "If the video is not fast-paced (given that frames are sampled at 1 per second), it's possible to transcribe the video with visual descriptions for each shot."
      ]
    },
    {
      "cell_type": "code",
      "execution_count": null,
      "metadata": {
        "id": "_JrcMsYnYXpJ"
      },
      "outputs": [],
      "source": [
        "# Create the prompt.\n",
        "prompt = \"Transcribe the audio, giving timestamps. Also provide visual descriptions.\"\n",
        "\n",
        "# Choose a Gemini model.\n",
        "model = genai.GenerativeModel(model_name=\"gemini-1.5-pro-latest\")\n",
        "\n",
        "# Make the LLM request.\n",
        "print(\"Making LLM inference request...\")\n",
        "response = model.generate_content([prompt, video_file],\n",
        "                                  request_options={\"timeout\": 600})\n",
        "print(response.text)"
      ]
    },
    {
      "cell_type": "markdown",
      "metadata": {
        "id": "rhePli5oC66h"
      },
      "source": [
        "# APPENDIX - OLD PHOTO PROMPTS"
      ]
    },
    {
      "cell_type": "code",
      "execution_count": null,
      "metadata": {
        "id": "XzMhQ8MWub5_"
      },
      "outputs": [],
      "source": [
        "import PIL.Image\n",
        "\n",
        "sample_file_1 = PIL.Image.open('tran1.png')\n",
        "sample_file_2 = PIL.Image.open('tran2.png')\n",
        "sample_file_3 = PIL.Image.open('tran3.png')\n",
        "sample_file_4 = PIL.Image.open('tran4.png')\n",
        "sample_file_5 = PIL.Image.open('tran5.png')\n",
        "sample_file_6 = PIL.Image.open('tran6.png')\n",
        "sample_file_7 = PIL.Image.open('tran7.png')\n"
      ]
    },
    {
      "cell_type": "code",
      "execution_count": null,
      "metadata": {
        "id": "llBqmIU_utBb"
      },
      "outputs": [],
      "source": [
        "# Choose a Gemini model.\n",
        "model = genai.GenerativeModel(model_name=\"gemini-1.5-pro-latest\")\n",
        "\n",
        "prompt = \"Use these images to detect information for the user to create a Google Business profile. See if you can summarize the business hours. Ensure your output is machine parseable JSON, i.e. {'item1': 'details', 'item2': 'details', 'item3', 'details'}\"\n",
        "\n",
        "response = model.generate_content([prompt, sample_file_1, sample_file_2, sample_file_3, sample_file_4, sample_file_5, sample_file_6, sample_file_7])\n",
        "\n",
        "Markdown(\">\" + response.text)"
      ]
    },
    {
      "cell_type": "code",
      "execution_count": null,
      "metadata": {
        "id": "tKXKaMTSslM4"
      },
      "outputs": [],
      "source": [
        "# Choose a Gemini model.\n",
        "model = genai.GenerativeModel(model_name=\"gemini-1.5-pro-latest\")\n",
        "\n",
        "prompt = \"Use these images to detect information for the user to create a Google Business profile. Try to guess the street address as the best you can. Ensure your output is machine parseable JSON, i.e. {'item1': 'details', 'item2': 'details', 'item3', 'details'}\"\n",
        "\n",
        "response = model.generate_content([prompt, sample_file_2, sample_file_5, sample_file_6])\n",
        "\n",
        "Markdown(\">\" + response.text)"
      ]
    },
    {
      "cell_type": "code",
      "execution_count": null,
      "metadata": {
        "id": "Ou5IVsybcOys"
      },
      "outputs": [],
      "source": [
        "# Choose a Gemini model.\n",
        "model = genai.GenerativeModel(model_name=\"gemini-1.5-pro-latest\")\n",
        "\n",
        "prompt = \"Use these images to help a user create a Google Business profile. Your first job is to identify a detailed description of this business (120 words or less). Ensure your output is machine parseable JSON, i.e. {'description': 'this is a business'}\"\n",
        "\n",
        "response = model.generate_content([prompt, sample_file_1, sample_file_2, sample_file_3, sample_file_4])\n",
        "\n",
        "Markdown(\">\" + response.text)"
      ]
    }
  ],
  "metadata": {
    "colab": {
      "provenance": []
    },
    "kernelspec": {
      "display_name": "Python 3",
      "name": "python3"
    }
  },
  "nbformat": 4,
  "nbformat_minor": 0
}
